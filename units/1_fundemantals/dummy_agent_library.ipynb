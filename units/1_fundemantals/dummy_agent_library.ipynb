{
 "cells": [
  {
   "cell_type": "code",
   "execution_count": 14,
   "metadata": {},
   "outputs": [],
   "source": [
    "from datetime import datetime, timedelta\n",
    "\n",
    "\n",
    "def get_current_time():\n",
    "    return datetime.now().strftime(\"%Y-%m-%d %H:%M:%S\")\n",
    "\n",
    "\n",
    "def get_agenda():\n",
    "    today_str = datetime.now().strftime(\"%Y-%m-%d\")\n",
    "    agenda = [\n",
    "        {\n",
    "            \"datetime\": f\"{today_str} 10:00:00\",\n",
    "            \"title\": \"Introduction to the course\",\n",
    "            \"description\": \"We will introduce the course and the project.\",\n",
    "        },\n",
    "        {\n",
    "            \"datetime\": f\"{today_str} 12:30:00\",\n",
    "            \"title\": \"Meet the student\",\n",
    "            \"description\": \"We will meet the student and discuss the project.\",\n",
    "        },\n",
    "        {\n",
    "            \"datetime\": f\"{today_str} 15:00:00\",\n",
    "            \"title\": \"Plan Learning Plan\",\n",
    "            \"description\": \"We will plan the learning plan for the student.\",\n",
    "        },\n",
    "        {\n",
    "            \"datetime\": f\"{today_str} 18:30:00\",\n",
    "            \"title\": \"Marking\",\n",
    "            \"description\": \"We will mark the student's work.\",\n",
    "        },\n",
    "    ]\n",
    "    agenda_str = \"\\n\".join(\n",
    "        [\n",
    "            f\"{item['datetime']} - {item['title']}: {item['description']}\"\n",
    "            for item in agenda\n",
    "        ]\n",
    "    )\n",
    "    return agenda_str"
   ]
  },
  {
   "cell_type": "code",
   "execution_count": 16,
   "metadata": {},
   "outputs": [
    {
     "name": "stdout",
     "output_type": "stream",
     "text": [
      "Let me check the agenda for you. Ah, yes... according to the agenda, you have a marking session today, scheduled for 18:30:00. It looks like you'll be marking the student's work.\n"
     ]
    }
   ],
   "source": [
    "from huggingface_hub import InferenceClient\n",
    "\n",
    "client = InferenceClient(api_key=\"hf_xxx\")\n",
    "\n",
    "def check_agenda(query: str):\n",
    "    current_time = get_current_time()\n",
    "    agenda = get_agenda()\n",
    "\n",
    "    messages = [\n",
    "        {\n",
    "            \"role\": \"system\",\n",
    "            \"content\": \"You are a helpful agenda assistant.\",\n",
    "        },\n",
    "        {\"role\": \"tool\", \"content\": f\"Current time: {current_time}\\nAgenda: {agenda}\"},\n",
    "        {\"role\": \"user\", \"content\": query},\n",
    "    ]\n",
    "\n",
    "    completion = client.chat.completions.create(\n",
    "        model=\"meta-llama/Llama-3.2-3B-Instruct\", messages=messages, max_tokens=500\n",
    "    )\n",
    "    return completion.choices[0].message.content\n",
    "\n",
    "\n",
    "print(check_agenda(\"Do I have marking today?\"))"
   ]
  }
 ],
 "metadata": {
  "kernelspec": {
   "display_name": ".venv",
   "language": "python",
   "name": "python3"
  },
  "language_info": {
   "codemirror_mode": {
    "name": "ipython",
    "version": 3
   },
   "file_extension": ".py",
   "mimetype": "text/x-python",
   "name": "python",
   "nbconvert_exporter": "python",
   "pygments_lexer": "ipython3",
   "version": "3.11.10"
  }
 },
 "nbformat": 4,
 "nbformat_minor": 2
}
